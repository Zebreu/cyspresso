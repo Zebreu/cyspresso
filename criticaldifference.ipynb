{
 "cells": [
  {
   "cell_type": "code",
   "execution_count": 1,
   "metadata": {
    "executionInfo": {
     "elapsed": 670,
     "status": "ok",
     "timestamp": 1654651693464,
     "user": {
      "displayName": "Sébastien Ouellet",
      "userId": "10771231568005612747"
     },
     "user_tz": 240
    },
    "id": "md7AAPdaZfBG"
   },
   "outputs": [],
   "source": [
    "import numpy as np\n",
    "import pandas as pd"
   ]
  },
  {
   "cell_type": "code",
   "execution_count": 38,
   "metadata": {
    "executionInfo": {
     "elapsed": 1539,
     "status": "ok",
     "timestamp": 1654651739132,
     "user": {
      "displayName": "Sébastien Ouellet",
      "userId": "10771231568005612747"
     },
     "user_tz": 240
    },
    "id": "AuK5HfESI6z2"
   },
   "outputs": [],
   "source": [
    "df = pd.read_csv('https://github.com/Zebreu/cyspresso/blob/main/CDPs.csv')"
   ]
  },
  {
   "cell_type": "code",
   "execution_count": 39,
   "metadata": {
    "colab": {
     "base_uri": "https://localhost:8080/",
     "height": 424
    },
    "executionInfo": {
     "elapsed": 5,
     "status": "ok",
     "timestamp": 1653886671104,
     "user": {
      "displayName": "Sébastien Ouellet",
      "userId": "10771231568005612747"
     },
     "user_tz": 240
    },
    "id": "JxSkotBaKA7e",
    "outputId": "0eb58398-0a60-4ef9-c53e-97177262ac91"
   },
   "outputs": [
    {
     "data": {
      "text/html": [
       "<div>\n",
       "<style scoped>\n",
       "    .dataframe tbody tr th:only-of-type {\n",
       "        vertical-align: middle;\n",
       "    }\n",
       "\n",
       "    .dataframe tbody tr th {\n",
       "        vertical-align: top;\n",
       "    }\n",
       "\n",
       "    .dataframe thead th {\n",
       "        text-align: right;\n",
       "    }\n",
       "</style>\n",
       "<table border=\"1\" class=\"dataframe\">\n",
       "  <thead>\n",
       "    <tr style=\"text-align: right;\">\n",
       "      <th></th>\n",
       "      <th>Unnamed: 0</th>\n",
       "      <th>Uniprot</th>\n",
       "      <th>Sequence</th>\n",
       "      <th>Source Organism (common name)</th>\n",
       "      <th>Expressibility</th>\n",
       "      <th>Organism Class</th>\n",
       "      <th>Is Knottin? Knoter1D</th>\n",
       "      <th>Is Knottin? Uniprot</th>\n",
       "      <th>Unnamed: 8</th>\n",
       "      <th>Unnamed: 9</th>\n",
       "    </tr>\n",
       "  </thead>\n",
       "  <tbody>\n",
       "    <tr>\n",
       "      <th>0</th>\n",
       "      <td>NaN</td>\n",
       "      <td>P01030</td>\n",
       "      <td>AKRCCQDGLTRLPMARTCEQRAARVQQPACREPFLSCCQFA</td>\n",
       "      <td>Bos taurus (Bovine)</td>\n",
       "      <td>-</td>\n",
       "      <td>Mammalia</td>\n",
       "      <td>N</td>\n",
       "      <td>N</td>\n",
       "      <td>NaN</td>\n",
       "      <td>NaN</td>\n",
       "    </tr>\n",
       "    <tr>\n",
       "      <th>1</th>\n",
       "      <td>NaN</td>\n",
       "      <td>P46162</td>\n",
       "      <td>PQSCRWNMGVCIPFLCRVGMRQIGTCFGPRVPCCRR</td>\n",
       "      <td>Bos taurus (Bovine)</td>\n",
       "      <td>-</td>\n",
       "      <td>Mammalia</td>\n",
       "      <td>N</td>\n",
       "      <td>N</td>\n",
       "      <td>NaN</td>\n",
       "      <td>NaN</td>\n",
       "    </tr>\n",
       "    <tr>\n",
       "      <th>2</th>\n",
       "      <td>NaN</td>\n",
       "      <td>P46163</td>\n",
       "      <td>PQSCRWNMGVCIPISCPGNMRQIGTCFGPRVPCCRRW</td>\n",
       "      <td>Bos taurus (Bovine)</td>\n",
       "      <td>-</td>\n",
       "      <td>Mammalia</td>\n",
       "      <td>N</td>\n",
       "      <td>N</td>\n",
       "      <td>1228.0</td>\n",
       "      <td>166.0</td>\n",
       "    </tr>\n",
       "    <tr>\n",
       "      <th>3</th>\n",
       "      <td>NaN</td>\n",
       "      <td>P46167</td>\n",
       "      <td>FVTCRINRGFCVPIRCPGHRRQIGTCLAPQIKCCR</td>\n",
       "      <td>Bos taurus (Bovine)</td>\n",
       "      <td>-</td>\n",
       "      <td>Mammalia</td>\n",
       "      <td>N</td>\n",
       "      <td>N</td>\n",
       "      <td>NaN</td>\n",
       "      <td>1.0</td>\n",
       "    </tr>\n",
       "    <tr>\n",
       "      <th>4</th>\n",
       "      <td>NaN</td>\n",
       "      <td>P01223</td>\n",
       "      <td>GLACGQAMSFCIPTEYMMHVERKECAYCLTINTTVCAGYCMTR</td>\n",
       "      <td>Bos taurus (Bovine)</td>\n",
       "      <td>-</td>\n",
       "      <td>Mammalia</td>\n",
       "      <td>N</td>\n",
       "      <td>N</td>\n",
       "      <td>NaN</td>\n",
       "      <td>187.0</td>\n",
       "    </tr>\n",
       "    <tr>\n",
       "      <th>...</th>\n",
       "      <td>...</td>\n",
       "      <td>...</td>\n",
       "      <td>...</td>\n",
       "      <td>...</td>\n",
       "      <td>...</td>\n",
       "      <td>...</td>\n",
       "      <td>...</td>\n",
       "      <td>...</td>\n",
       "      <td>...</td>\n",
       "      <td>...</td>\n",
       "    </tr>\n",
       "    <tr>\n",
       "      <th>1244</th>\n",
       "      <td>NaN</td>\n",
       "      <td>B6UHE2</td>\n",
       "      <td>ADLCVTRSRTFKGWCHQSENCITVCKSEGNTGGFCKLGACMCTKECVRS</td>\n",
       "      <td>Zea mays (Indian corn)</td>\n",
       "      <td>+</td>\n",
       "      <td>Plants</td>\n",
       "      <td>N</td>\n",
       "      <td>N</td>\n",
       "      <td>NaN</td>\n",
       "      <td>NaN</td>\n",
       "    </tr>\n",
       "    <tr>\n",
       "      <th>1245</th>\n",
       "      <td>NaN</td>\n",
       "      <td>P0C1Y5</td>\n",
       "      <td>GGGCGYKDVNKAPFNSMGACGNVPIFKDGLGCGSCFEIKCDKPAECSGK</td>\n",
       "      <td>Zea mays (Indian corn)</td>\n",
       "      <td>-</td>\n",
       "      <td>Plants</td>\n",
       "      <td>N</td>\n",
       "      <td>N</td>\n",
       "      <td>NaN</td>\n",
       "      <td>NaN</td>\n",
       "    </tr>\n",
       "    <tr>\n",
       "      <th>1246</th>\n",
       "      <td>NaN</td>\n",
       "      <td>B6SJ49</td>\n",
       "      <td>ARTCQSQSHRFRGPCLRRSNCANVCRTEGFPGGRCRGFRRRCFCTTHCH</td>\n",
       "      <td>Zea mays (Indian corn)</td>\n",
       "      <td>-</td>\n",
       "      <td>Plants</td>\n",
       "      <td>N</td>\n",
       "      <td>N</td>\n",
       "      <td>NaN</td>\n",
       "      <td>NaN</td>\n",
       "    </tr>\n",
       "    <tr>\n",
       "      <th>1247</th>\n",
       "      <td>NaN</td>\n",
       "      <td>B6SQK6</td>\n",
       "      <td>AQICYSRSKTFKGWCYHSTNCISVCITEGEISGFCQHGICMCTYECLTG</td>\n",
       "      <td>Zea mays (Indian corn)</td>\n",
       "      <td>-</td>\n",
       "      <td>Plants</td>\n",
       "      <td>N</td>\n",
       "      <td>N</td>\n",
       "      <td>NaN</td>\n",
       "      <td>NaN</td>\n",
       "    </tr>\n",
       "    <tr>\n",
       "      <th>1248</th>\n",
       "      <td>NaN</td>\n",
       "      <td>A1DMY0</td>\n",
       "      <td>RDHCGQVCLNKTGCGGKCPKCDMRSLTCKKA</td>\n",
       "      <td>Neosartorya fischeri (strain ATCC 1020 / DSM 3...</td>\n",
       "      <td>+</td>\n",
       "      <td>Fungi</td>\n",
       "      <td>N</td>\n",
       "      <td>Y</td>\n",
       "      <td>NaN</td>\n",
       "      <td>NaN</td>\n",
       "    </tr>\n",
       "  </tbody>\n",
       "</table>\n",
       "<p>1249 rows × 10 columns</p>\n",
       "</div>"
      ],
      "text/plain": [
       "     Unnamed: 0 Uniprot                                           Sequence  \\\n",
       "0           NaN  P01030          AKRCCQDGLTRLPMARTCEQRAARVQQPACREPFLSCCQFA   \n",
       "1           NaN  P46162               PQSCRWNMGVCIPFLCRVGMRQIGTCFGPRVPCCRR   \n",
       "2           NaN  P46163              PQSCRWNMGVCIPISCPGNMRQIGTCFGPRVPCCRRW   \n",
       "3           NaN  P46167                FVTCRINRGFCVPIRCPGHRRQIGTCLAPQIKCCR   \n",
       "4           NaN  P01223        GLACGQAMSFCIPTEYMMHVERKECAYCLTINTTVCAGYCMTR   \n",
       "...         ...     ...                                                ...   \n",
       "1244        NaN  B6UHE2  ADLCVTRSRTFKGWCHQSENCITVCKSEGNTGGFCKLGACMCTKECVRS   \n",
       "1245        NaN  P0C1Y5  GGGCGYKDVNKAPFNSMGACGNVPIFKDGLGCGSCFEIKCDKPAECSGK   \n",
       "1246        NaN  B6SJ49  ARTCQSQSHRFRGPCLRRSNCANVCRTEGFPGGRCRGFRRRCFCTTHCH   \n",
       "1247        NaN  B6SQK6  AQICYSRSKTFKGWCYHSTNCISVCITEGEISGFCQHGICMCTYECLTG   \n",
       "1248        NaN  A1DMY0                    RDHCGQVCLNKTGCGGKCPKCDMRSLTCKKA   \n",
       "\n",
       "                          Source Organism (common name) Expressibility  \\\n",
       "0                                   Bos taurus (Bovine)              -   \n",
       "1                                   Bos taurus (Bovine)              -   \n",
       "2                                   Bos taurus (Bovine)              -   \n",
       "3                                   Bos taurus (Bovine)              -   \n",
       "4                                   Bos taurus (Bovine)              -   \n",
       "...                                                 ...            ...   \n",
       "1244                             Zea mays (Indian corn)              +   \n",
       "1245                             Zea mays (Indian corn)              -   \n",
       "1246                             Zea mays (Indian corn)              -   \n",
       "1247                             Zea mays (Indian corn)              -   \n",
       "1248  Neosartorya fischeri (strain ATCC 1020 / DSM 3...              +   \n",
       "\n",
       "     Organism Class Is Knottin? Knoter1D Is Knottin? Uniprot  Unnamed: 8  \\\n",
       "0         Mammalia                     N                   N         NaN   \n",
       "1         Mammalia                     N                   N         NaN   \n",
       "2         Mammalia                     N                   N      1228.0   \n",
       "3         Mammalia                     N                   N         NaN   \n",
       "4         Mammalia                     N                   N         NaN   \n",
       "...             ...                  ...                 ...         ...   \n",
       "1244         Plants                    N                   N         NaN   \n",
       "1245         Plants                    N                   N         NaN   \n",
       "1246         Plants                    N                   N         NaN   \n",
       "1247         Plants                    N                   N         NaN   \n",
       "1248          Fungi                    N                   Y         NaN   \n",
       "\n",
       "      Unnamed: 9  \n",
       "0            NaN  \n",
       "1            NaN  \n",
       "2          166.0  \n",
       "3            1.0  \n",
       "4          187.0  \n",
       "...          ...  \n",
       "1244         NaN  \n",
       "1245         NaN  \n",
       "1246         NaN  \n",
       "1247         NaN  \n",
       "1248         NaN  \n",
       "\n",
       "[1249 rows x 10 columns]"
      ]
     },
     "execution_count": 39,
     "metadata": {},
     "output_type": "execute_result"
    }
   ],
   "source": [
    "df"
   ]
  },
  {
   "cell_type": "code",
   "execution_count": 40,
   "metadata": {
    "executionInfo": {
     "elapsed": 199,
     "status": "ok",
     "timestamp": 1654651769046,
     "user": {
      "displayName": "Sébastien Ouellet",
      "userId": "10771231568005612747"
     },
     "user_tz": 240
    },
    "id": "14C0ue1NtGdv"
   },
   "outputs": [],
   "source": [
    "express = {'+': True, '+-PR': True, '-': False}"
   ]
  },
  {
   "cell_type": "code",
   "execution_count": 41,
   "metadata": {
    "executionInfo": {
     "elapsed": 191,
     "status": "ok",
     "timestamp": 1654651769416,
     "user": {
      "displayName": "Sébastien Ouellet",
      "userId": "10771231568005612747"
     },
     "user_tz": 240
    },
    "id": "G3KWlxLvw6-I"
   },
   "outputs": [],
   "source": [
    "df['Expressibility'] = df['Expressibility'].replace(express)"
   ]
  },
  {
   "cell_type": "code",
   "execution_count": 43,
   "metadata": {
    "colab": {
     "base_uri": "https://localhost:8080/",
     "height": 424
    },
    "executionInfo": {
     "elapsed": 167,
     "status": "ok",
     "timestamp": 1654651771323,
     "user": {
      "displayName": "Sébastien Ouellet",
      "userId": "10771231568005612747"
     },
     "user_tz": 240
    },
    "id": "hBD3OJT_3Jrb",
    "outputId": "7b8fcc83-ac1f-49d6-c85c-bd64bf0f7e12"
   },
   "outputs": [
    {
     "data": {
      "text/html": [
       "<div>\n",
       "<style scoped>\n",
       "    .dataframe tbody tr th:only-of-type {\n",
       "        vertical-align: middle;\n",
       "    }\n",
       "\n",
       "    .dataframe tbody tr th {\n",
       "        vertical-align: top;\n",
       "    }\n",
       "\n",
       "    .dataframe thead th {\n",
       "        text-align: right;\n",
       "    }\n",
       "</style>\n",
       "<table border=\"1\" class=\"dataframe\">\n",
       "  <thead>\n",
       "    <tr style=\"text-align: right;\">\n",
       "      <th></th>\n",
       "      <th>Uniprot</th>\n",
       "      <th>Sequence</th>\n",
       "      <th>Expressibility</th>\n",
       "      <th>Is Knottin? Uniprot</th>\n",
       "    </tr>\n",
       "  </thead>\n",
       "  <tbody>\n",
       "    <tr>\n",
       "      <th>0</th>\n",
       "      <td>P01030</td>\n",
       "      <td>AKRCCQDGLTRLPMARTCEQRAARVQQPACREPFLSCCQFA</td>\n",
       "      <td>False</td>\n",
       "      <td>N</td>\n",
       "    </tr>\n",
       "    <tr>\n",
       "      <th>1</th>\n",
       "      <td>P46162</td>\n",
       "      <td>PQSCRWNMGVCIPFLCRVGMRQIGTCFGPRVPCCRR</td>\n",
       "      <td>False</td>\n",
       "      <td>N</td>\n",
       "    </tr>\n",
       "    <tr>\n",
       "      <th>2</th>\n",
       "      <td>P46163</td>\n",
       "      <td>PQSCRWNMGVCIPISCPGNMRQIGTCFGPRVPCCRRW</td>\n",
       "      <td>False</td>\n",
       "      <td>N</td>\n",
       "    </tr>\n",
       "    <tr>\n",
       "      <th>3</th>\n",
       "      <td>P46167</td>\n",
       "      <td>FVTCRINRGFCVPIRCPGHRRQIGTCLAPQIKCCR</td>\n",
       "      <td>False</td>\n",
       "      <td>N</td>\n",
       "    </tr>\n",
       "    <tr>\n",
       "      <th>4</th>\n",
       "      <td>P01223</td>\n",
       "      <td>GLACGQAMSFCIPTEYMMHVERKECAYCLTINTTVCAGYCMTR</td>\n",
       "      <td>False</td>\n",
       "      <td>N</td>\n",
       "    </tr>\n",
       "    <tr>\n",
       "      <th>...</th>\n",
       "      <td>...</td>\n",
       "      <td>...</td>\n",
       "      <td>...</td>\n",
       "      <td>...</td>\n",
       "    </tr>\n",
       "    <tr>\n",
       "      <th>1244</th>\n",
       "      <td>B6UHE2</td>\n",
       "      <td>ADLCVTRSRTFKGWCHQSENCITVCKSEGNTGGFCKLGACMCTKECVRS</td>\n",
       "      <td>True</td>\n",
       "      <td>N</td>\n",
       "    </tr>\n",
       "    <tr>\n",
       "      <th>1245</th>\n",
       "      <td>P0C1Y5</td>\n",
       "      <td>GGGCGYKDVNKAPFNSMGACGNVPIFKDGLGCGSCFEIKCDKPAECSGK</td>\n",
       "      <td>False</td>\n",
       "      <td>N</td>\n",
       "    </tr>\n",
       "    <tr>\n",
       "      <th>1246</th>\n",
       "      <td>B6SJ49</td>\n",
       "      <td>ARTCQSQSHRFRGPCLRRSNCANVCRTEGFPGGRCRGFRRRCFCTTHCH</td>\n",
       "      <td>False</td>\n",
       "      <td>N</td>\n",
       "    </tr>\n",
       "    <tr>\n",
       "      <th>1247</th>\n",
       "      <td>B6SQK6</td>\n",
       "      <td>AQICYSRSKTFKGWCYHSTNCISVCITEGEISGFCQHGICMCTYECLTG</td>\n",
       "      <td>False</td>\n",
       "      <td>N</td>\n",
       "    </tr>\n",
       "    <tr>\n",
       "      <th>1248</th>\n",
       "      <td>A1DMY0</td>\n",
       "      <td>RDHCGQVCLNKTGCGGKCPKCDMRSLTCKKA</td>\n",
       "      <td>True</td>\n",
       "      <td>Y</td>\n",
       "    </tr>\n",
       "  </tbody>\n",
       "</table>\n",
       "<p>1249 rows × 4 columns</p>\n",
       "</div>"
      ],
      "text/plain": [
       "     Uniprot                                           Sequence  \\\n",
       "0     P01030          AKRCCQDGLTRLPMARTCEQRAARVQQPACREPFLSCCQFA   \n",
       "1     P46162               PQSCRWNMGVCIPFLCRVGMRQIGTCFGPRVPCCRR   \n",
       "2     P46163              PQSCRWNMGVCIPISCPGNMRQIGTCFGPRVPCCRRW   \n",
       "3     P46167                FVTCRINRGFCVPIRCPGHRRQIGTCLAPQIKCCR   \n",
       "4     P01223        GLACGQAMSFCIPTEYMMHVERKECAYCLTINTTVCAGYCMTR   \n",
       "...      ...                                                ...   \n",
       "1244  B6UHE2  ADLCVTRSRTFKGWCHQSENCITVCKSEGNTGGFCKLGACMCTKECVRS   \n",
       "1245  P0C1Y5  GGGCGYKDVNKAPFNSMGACGNVPIFKDGLGCGSCFEIKCDKPAECSGK   \n",
       "1246  B6SJ49  ARTCQSQSHRFRGPCLRRSNCANVCRTEGFPGGRCRGFRRRCFCTTHCH   \n",
       "1247  B6SQK6  AQICYSRSKTFKGWCYHSTNCISVCITEGEISGFCQHGICMCTYECLTG   \n",
       "1248  A1DMY0                    RDHCGQVCLNKTGCGGKCPKCDMRSLTCKKA   \n",
       "\n",
       "      Expressibility Is Knottin? Uniprot  \n",
       "0              False                   N  \n",
       "1              False                   N  \n",
       "2              False                   N  \n",
       "3              False                   N  \n",
       "4              False                   N  \n",
       "...              ...                 ...  \n",
       "1244            True                   N  \n",
       "1245           False                   N  \n",
       "1246           False                   N  \n",
       "1247           False                   N  \n",
       "1248            True                   Y  \n",
       "\n",
       "[1249 rows x 4 columns]"
      ]
     },
     "execution_count": 43,
     "metadata": {},
     "output_type": "execute_result"
    }
   ],
   "source": [
    "small = df[['Uniprot','Sequence','Expressibility','Is Knottin? Uniprot']]\n",
    "small"
   ]
  },
  {
   "cell_type": "markdown",
   "metadata": {},
   "source": [
    "### Bring your own embeddings in a npy format, one representation per peptide: number of residue X number of dimensions, e.g. 38 X 256 for Alphafold2's MSA embedding"
   ]
  },
  {
   "cell_type": "code",
   "execution_count": 1,
   "metadata": {
    "executionInfo": {
     "elapsed": 186,
     "status": "ok",
     "timestamp": 1654651781964,
     "user": {
      "displayName": "Sébastien Ouellet",
      "userId": "10771231568005612747"
     },
     "user_tz": 240
    },
    "id": "XqINYMUnOspb"
   },
   "outputs": [],
   "source": [
    "import glob\n",
    "cembs1 = sorted(glob.glob('msa_first_row_reps/*.npy'))"
   ]
  },
  {
   "cell_type": "code",
   "execution_count": 20,
   "metadata": {
    "executionInfo": {
     "elapsed": 162,
     "status": "ok",
     "timestamp": 1654651782305,
     "user": {
      "displayName": "Sébastien Ouellet",
      "userId": "10771231568005612747"
     },
     "user_tz": 240
    },
    "id": "TTFxpLct5NIR"
   },
   "outputs": [],
   "source": [
    "cembs2 = sorted(glob.glob('struct_mod_reps/*.npy'))"
   ]
  },
  {
   "cell_type": "code",
   "execution_count": 21,
   "metadata": {
    "executionInfo": {
     "elapsed": 161,
     "status": "ok",
     "timestamp": 1654651782622,
     "user": {
      "displayName": "Sébastien Ouellet",
      "userId": "10771231568005612747"
     },
     "user_tz": 240
    },
    "id": "VYMPXYISPK5i"
   },
   "outputs": [],
   "source": [
    "cembs3 = sorted(glob.glob('pair_reps/*.npy'))"
   ]
  },
  {
   "cell_type": "code",
   "execution_count": 22,
   "metadata": {
    "executionInfo": {
     "elapsed": 166,
     "status": "ok",
     "timestamp": 1654651782927,
     "user": {
      "displayName": "Sébastien Ouellet",
      "userId": "10771231568005612747"
     },
     "user_tz": 240
    },
    "id": "7wZrZhOI5NIR"
   },
   "outputs": [],
   "source": [
    "cembs4 = sorted(glob.glob('single_embeddings/*.npy'))"
   ]
  },
  {
   "cell_type": "code",
   "execution_count": 23,
   "metadata": {
    "executionInfo": {
     "elapsed": 4,
     "status": "ok",
     "timestamp": 1654651783520,
     "user": {
      "displayName": "Sébastien Ouellet",
      "userId": "10771231568005612747"
     },
     "user_tz": 240
    },
    "id": "RHwZgK0C5NIS"
   },
   "outputs": [],
   "source": [
    "cembs = [cembs1, cembs2, cembs3, cembs4]"
   ]
  },
  {
   "cell_type": "code",
   "execution_count": 187,
   "metadata": {
    "executionInfo": {
     "elapsed": 1940081,
     "status": "ok",
     "timestamp": 1654653728315,
     "user": {
      "displayName": "Sébastien Ouellet",
      "userId": "10771231568005612747"
     },
     "user_tz": 240
    },
    "id": "i0P7o2TR5NIT"
   },
   "outputs": [],
   "source": [
    "cembs_array = []\n",
    "names = []\n",
    "for c,c1,c2,c3 in zip(cembs1,cembs2,cembs3, cembs4):\n",
    "    array = np.load(c)\n",
    "    array1 = np.load(c1)\n",
    "    array2 = np.load(c2).mean(axis=1)\n",
    "    array3 = np.load(c3)\n",
    "    array = np.concatenate([array, array1, array2, array3], axis=1)\n",
    "    names.append(c[-10:-4])\n",
    "    cembs_array.append(array)\n",
    "raw_array = cembs_array.copy()                     "
   ]
  },
  {
   "cell_type": "code",
   "execution_count": 14,
   "metadata": {
    "colab": {
     "base_uri": "https://localhost:8080/",
     "height": 165
    },
    "executionInfo": {
     "elapsed": 137,
     "status": "error",
     "timestamp": 1653879864479,
     "user": {
      "displayName": "Sébastien Ouellet",
      "userId": "10771231568005612747"
     },
     "user_tz": 240
    },
    "id": "FpQUk_8f5NIT",
    "outputId": "60c8eef8-b197-44ee-f4af-a074fa4c6e1e"
   },
   "outputs": [
    {
     "data": {
      "text/plain": [
       "(38, 1152)"
      ]
     },
     "execution_count": 14,
     "metadata": {},
     "output_type": "execute_result"
    }
   ],
   "source": [
    "raw_array[0].shape"
   ]
  },
  {
   "cell_type": "markdown",
   "metadata": {},
   "source": [
    "### Embedding preprocessing"
   ]
  },
  {
   "cell_type": "code",
   "execution_count": 26,
   "metadata": {
    "executionInfo": {
     "elapsed": 184878,
     "status": "ok",
     "timestamp": 1654653913188,
     "user": {
      "displayName": "Sébastien Ouellet",
      "userId": "10771231568005612747"
     },
     "user_tz": 240
    },
    "id": "FrAT-I2r5NIW"
   },
   "outputs": [],
   "source": [
    "# Rocket works best when zero-padded\n",
    "\n",
    "features = [[] for i in range(384+256+128+384)]\n",
    "new_names = []\n",
    "for name, a in zip(names, raw_array):\n",
    "  for i in range(384+256+128+384):\n",
    "    f = a[:,i]\n",
    "    d = 50 - len(f)\n",
    "    f = np.pad(f, (0,d))\n",
    "    features[i].append(pd.Series(f))\n",
    "  new_names.append(name)"
   ]
  },
  {
   "cell_type": "code",
   "execution_count": 45,
   "metadata": {},
   "outputs": [
    {
     "data": {
      "text/plain": [
       "1249"
      ]
     },
     "execution_count": 45,
     "metadata": {},
     "output_type": "execute_result"
    }
   ],
   "source": [
    "len(new_names)"
   ]
  },
  {
   "cell_type": "code",
   "execution_count": 16,
   "metadata": {
    "id": "n4fBDAuw5NIW",
    "outputId": "95d9f343-d53d-4d02-c7a7-2553755127c4"
   },
   "outputs": [
    {
     "data": {
      "text/plain": [
       "1152"
      ]
     },
     "execution_count": 16,
     "metadata": {},
     "output_type": "execute_result"
    }
   ],
   "source": [
    "len(features)"
   ]
  },
  {
   "cell_type": "code",
   "execution_count": 27,
   "metadata": {
    "executionInfo": {
     "elapsed": 5,
     "status": "ok",
     "timestamp": 1654653913189,
     "user": {
      "displayName": "Sébastien Ouellet",
      "userId": "10771231568005612747"
     },
     "user_tz": 240
    },
    "id": "tHVcYW2xsfk1"
   },
   "outputs": [],
   "source": [
    "cc = pd.DataFrame(new_names, columns=['Uniprot'])"
   ]
  },
  {
   "cell_type": "code",
   "execution_count": null,
   "metadata": {
    "colab": {
     "base_uri": "https://localhost:8080/"
    },
    "executionInfo": {
     "elapsed": 15340,
     "status": "ok",
     "timestamp": 1654653928525,
     "user": {
      "displayName": "Sébastien Ouellet",
      "userId": "10771231568005612747"
     },
     "user_tz": 240
    },
    "id": "YmVv8girslWz",
    "outputId": "58c5ca47-ff28-4459-d34b-9bcb3930a03c",
    "tags": []
   },
   "outputs": [],
   "source": [
    "for i,f in enumerate(features):\n",
    "  cc[i] = pd.Series(f)"
   ]
  },
  {
   "cell_type": "code",
   "execution_count": 46,
   "metadata": {
    "executionInfo": {
     "elapsed": 903,
     "status": "ok",
     "timestamp": 1654654692483,
     "user": {
      "displayName": "Sébastien Ouellet",
      "userId": "10771231568005612747"
     },
     "user_tz": 240
    },
    "id": "1eMtBIjlPhbr"
   },
   "outputs": [],
   "source": [
    "combined = pd.merge(cc, small, left_on='Uniprot', right_on='Uniprot')"
   ]
  },
  {
   "cell_type": "code",
   "execution_count": 47,
   "metadata": {
    "colab": {
     "base_uri": "https://localhost:8080/"
    },
    "executionInfo": {
     "elapsed": 520,
     "status": "ok",
     "timestamp": 1654654694043,
     "user": {
      "displayName": "Sébastien Ouellet",
      "userId": "10771231568005612747"
     },
     "user_tz": 240
    },
    "id": "Llmoxv8sKfBb",
    "outputId": "508c8f30-776c-4e94-ebcc-12d3f7329028"
   },
   "outputs": [
    {
     "data": {
      "text/plain": [
       "True     678\n",
       "False    549\n",
       "Name: Expressibility, dtype: int64"
      ]
     },
     "execution_count": 47,
     "metadata": {},
     "output_type": "execute_result"
    }
   ],
   "source": [
    "combined = combined.drop_duplicates('Uniprot').sort_values('Uniprot')\n",
    "combined['Expressibility'].value_counts()"
   ]
  },
  {
   "cell_type": "code",
   "execution_count": 31,
   "metadata": {
    "executionInfo": {
     "elapsed": 822,
     "status": "ok",
     "timestamp": 1654653929662,
     "user": {
      "displayName": "Sébastien Ouellet",
      "userId": "10771231568005612747"
     },
     "user_tz": 240
    },
    "id": "BR9shVurNdzz"
   },
   "outputs": [],
   "source": [
    "from sklearn import preprocessing\n",
    "from sklearn.utils import shuffle"
   ]
  },
  {
   "cell_type": "code",
   "execution_count": 32,
   "metadata": {
    "executionInfo": {
     "elapsed": 559,
     "status": "ok",
     "timestamp": 1654653930218,
     "user": {
      "displayName": "Sébastien Ouellet",
      "userId": "10771231568005612747"
     },
     "user_tz": 240
    },
    "id": "r-6gqeGFN-JS"
   },
   "outputs": [],
   "source": [
    "from sklearn.ensemble import RandomForestClassifier\n",
    "from sklearn.linear_model import LogisticRegression, RidgeClassifier, LogisticRegressionCV, RidgeClassifierCV\n",
    "from sklearn.svm import SVC"
   ]
  },
  {
   "cell_type": "code",
   "execution_count": 33,
   "metadata": {
    "executionInfo": {
     "elapsed": 6,
     "status": "ok",
     "timestamp": 1654653930218,
     "user": {
      "displayName": "Sébastien Ouellet",
      "userId": "10771231568005612747"
     },
     "user_tz": 240
    },
    "id": "xoJ70lJ7_VdU"
   },
   "outputs": [],
   "source": [
    "#import lightgbm\n",
    "from sklearn.metrics import auc, roc_auc_score\n",
    "from sklearn import model_selection\n",
    "from sklearn import metrics"
   ]
  },
  {
   "cell_type": "code",
   "execution_count": 34,
   "metadata": {
    "executionInfo": {
     "elapsed": 219167,
     "status": "ok",
     "timestamp": 1654654171362,
     "user": {
      "displayName": "Sébastien Ouellet",
      "userId": "10771231568005612747"
     },
     "user_tz": 240
    },
    "id": "VmtboR2gs05Z"
   },
   "outputs": [
    {
     "name": "stderr",
     "output_type": "stream",
     "text": [
      "D:\\aprilminiconda3\\lib\\site-packages\\sktime\\datatypes\\_series\\_check.py:43: FutureWarning: pandas.Int64Index is deprecated and will be removed from pandas in a future version. Use pandas.Index with the appropriate dtype instead.\n",
      "  VALID_INDEX_TYPES = (pd.Int64Index, pd.RangeIndex, pd.PeriodIndex, pd.DatetimeIndex)\n",
      "D:\\aprilminiconda3\\lib\\site-packages\\sktime\\datatypes\\_hierarchical\\_check.py:50: FutureWarning: pandas.Int64Index is deprecated and will be removed from pandas in a future version. Use pandas.Index with the appropriate dtype instead.\n",
      "  VALID_INDEX_TYPES = (pd.Int64Index, pd.RangeIndex, pd.PeriodIndex, pd.DatetimeIndex)\n",
      "D:\\aprilminiconda3\\lib\\site-packages\\sktime\\datatypes\\_hierarchical\\_check.py:51: FutureWarning: pandas.Int64Index is deprecated and will be removed from pandas in a future version. Use pandas.Index with the appropriate dtype instead.\n",
      "  VALID_MULTIINDEX_TYPES = (pd.Int64Index, pd.RangeIndex)\n",
      "D:\\aprilminiconda3\\lib\\site-packages\\sktime\\datatypes\\_panel\\_check.py:48: FutureWarning: pandas.Int64Index is deprecated and will be removed from pandas in a future version. Use pandas.Index with the appropriate dtype instead.\n",
      "  VALID_INDEX_TYPES = (pd.Int64Index, pd.RangeIndex, pd.PeriodIndex, pd.DatetimeIndex)\n",
      "D:\\aprilminiconda3\\lib\\site-packages\\sktime\\datatypes\\_panel\\_check.py:49: FutureWarning: pandas.Int64Index is deprecated and will be removed from pandas in a future version. Use pandas.Index with the appropriate dtype instead.\n",
      "  VALID_MULTIINDEX_TYPES = (pd.Int64Index, pd.RangeIndex, pd.Index)\n",
      "D:\\aprilminiconda3\\lib\\site-packages\\sktime\\datatypes\\_proba\\_check.py:43: FutureWarning: pandas.Int64Index is deprecated and will be removed from pandas in a future version. Use pandas.Index with the appropriate dtype instead.\n",
      "  VALID_INDEX_TYPES = (pd.Int64Index, pd.RangeIndex, pd.PeriodIndex, pd.DatetimeIndex)\n"
     ]
    }
   ],
   "source": [
    "from sktime.transformations.panel.rocket import MiniRocketMultivariate, Rocket, MultiRocketMultivariate"
   ]
  },
  {
   "cell_type": "markdown",
   "metadata": {},
   "source": [
    "### Create a series of experiments where we split the dataset between knottin vs non-knottin and try out some methods"
   ]
  },
  {
   "cell_type": "code",
   "execution_count": 99,
   "metadata": {},
   "outputs": [],
   "source": [
    "mega = {} # dictionary holding all results for later analysis"
   ]
  },
  {
   "cell_type": "code",
   "execution_count": 94,
   "metadata": {},
   "outputs": [],
   "source": [
    "knot = combined[combined['Is Knottin? Uniprot'] == 'Y']\n",
    "knot = knot.sort_values('Uniprot')"
   ]
  },
  {
   "cell_type": "code",
   "execution_count": 98,
   "metadata": {
    "executionInfo": {
     "elapsed": 2517699,
     "status": "ok",
     "timestamp": 1654657217980,
     "user": {
      "displayName": "Sébastien Ouellet",
      "userId": "10771231568005612747"
     },
     "user_tz": 240
    },
    "id": "ZRxT9OGz5NIa"
   },
   "outputs": [],
   "source": [
    "feat_cols = list(range(384+256+128+384))\n",
    "\n",
    "rocket = Rocket(num_kernels=10000, random_state=42)\n",
    "rocket.fit(knot[feat_cols])\n",
    "transformed = rocket.transform(knot[feat_cols])"
   ]
  },
  {
   "cell_type": "code",
   "execution_count": 100,
   "metadata": {
    "tags": []
   },
   "outputs": [],
   "source": [
    "scores=[]\n",
    "skf = model_selection.ShuffleSplit(n_splits=50, test_size=0.1, random_state=10)\n",
    "\n",
    "for train_index, test_index in skf.split(transformed.values, knot['Expressibility'].values):\n",
    "    X_train, X_test = transformed.values[train_index], transformed.values[test_index]\n",
    "    y_train, y_test = knot['Expressibility'].values[train_index], knot['Expressibility'].values[test_index]\n",
    "\n",
    "    scaler = preprocessing.StandardScaler()\n",
    "    scaler.fit(X_train)\n",
    "    tr = scaler.transform(X_train)\n",
    "\n",
    "    model = LogisticRegression(C=0.0001)\n",
    "    model.fit(tr, y_train)\n",
    "\n",
    "    tt = scaler.transform(X_test)\n",
    "    truth = y_test\n",
    "    \n",
    "    scores.append(roc_auc_score(truth, model.predict_proba(tt)[:,1]))  \n",
    "mega['knottin_rocket']=list(scores)"
   ]
  },
  {
   "cell_type": "markdown",
   "metadata": {},
   "source": [
    "#### The following cells follow a similar methodology as above. The current notebook suffer from repetition, we may clean it up at a later time"
   ]
  },
  {
   "cell_type": "code",
   "execution_count": 105,
   "metadata": {},
   "outputs": [],
   "source": [
    "st = pd.read_parquet('peptide-data.parquet')\n",
    "stt = pd.read_parquet('proteInfer_embeddings_peptides.parquet') # Computable by proteinfer as directed by https://github.com/google-research/proteinfer\n",
    "\n",
    "stt['Uniprot'] = st[\"('Uniprot',)\"].values\n",
    "\n",
    "knot = pd.merge(combined[['Uniprot', 'Expressibility', 'Is Knottin? Uniprot']], stt, left_on='Uniprot', right_on='Uniprot')\n",
    "knot = knot[knot['Is Knottin? Uniprot'] == 'Y']\n",
    "knot = knot.drop_duplicates('Uniprot').sort_values('Uniprot').sort_values('Uniprot')\n",
    "transformed = knot[[str(i) for i in range(1100)]]"
   ]
  },
  {
   "cell_type": "markdown",
   "metadata": {},
   "source": [
    "#### Proteinfer"
   ]
  },
  {
   "cell_type": "code",
   "execution_count": 109,
   "metadata": {},
   "outputs": [],
   "source": [
    "scores=[]\n",
    "skf = model_selection.ShuffleSplit(n_splits=50, test_size=0.1, random_state=10)\n",
    "\n",
    "for train_index, test_index in skf.split(transformed.values, knot['Expressibility'].values):\n",
    "    X_train, X_test = transformed.values[train_index], transformed.values[test_index]\n",
    "    y_train, y_test = knot['Expressibility'].values[train_index], knot['Expressibility'].values[test_index]\n",
    "\n",
    "    tr = X_train\n",
    "    model = RandomForestClassifier(n_estimators=300)\n",
    "    model.fit(tr, y_train)\n",
    "    \n",
    "    tt = X_test\n",
    "    truth = y_test\n",
    "    \n",
    "    scores.append(roc_auc_score(truth, model.predict_proba(tt)[:,1]))  \n",
    "mega['knottin_proteinfer']=list(scores)"
   ]
  },
  {
   "cell_type": "markdown",
   "metadata": {},
   "source": [
    "#### Averaged representations from Alphafold2"
   ]
  },
  {
   "cell_type": "code",
   "execution_count": 127,
   "metadata": {},
   "outputs": [],
   "source": [
    "parts = []\n",
    "for a in raw_array:\n",
    "    parts.append(a.mean(axis=0))\n",
    "averaged = pd.DataFrame(parts)\n",
    "averaged['Uniprot'] = names"
   ]
  },
  {
   "cell_type": "code",
   "execution_count": 128,
   "metadata": {},
   "outputs": [],
   "source": [
    "knot = pd.merge(combined[['Uniprot', 'Expressibility', 'Is Knottin? Uniprot']], averaged, left_on='Uniprot', right_on='Uniprot')\n",
    "knot = knot[knot['Is Knottin? Uniprot'] == 'Y']\n",
    "knot = knot.drop_duplicates('Uniprot').sort_values('Uniprot').sort_values('Uniprot')\n",
    "transformed = knot[[i for i in range(1152)]]"
   ]
  },
  {
   "cell_type": "code",
   "execution_count": 129,
   "metadata": {},
   "outputs": [],
   "source": [
    "scores=[]\n",
    "skf = model_selection.ShuffleSplit(n_splits=50, test_size=0.1, random_state=10)\n",
    "\n",
    "for train_index, test_index in skf.split(transformed.values, knot['Expressibility'].values):\n",
    "    X_train, X_test = transformed.values[train_index], transformed.values[test_index]\n",
    "    y_train, y_test = knot['Expressibility'].values[train_index], knot['Expressibility'].values[test_index]\n",
    "\n",
    "    tr = X_train\n",
    "    model = RandomForestClassifier(n_estimators=300)\n",
    "    model.fit(tr, y_train)\n",
    "    \n",
    "    tt = X_test\n",
    "    truth = y_test\n",
    "    \n",
    "    scores.append(roc_auc_score(truth, model.predict_proba(tt)[:,1]))  \n",
    "mega['knottin_averagedfour']=list(scores)"
   ]
  },
  {
   "cell_type": "code",
   "execution_count": 135,
   "metadata": {},
   "outputs": [],
   "source": [
    "parts = []\n",
    "for a in raw_array:\n",
    "    parts.append(a[:,0:256].mean(axis=0))\n",
    "averaged = pd.DataFrame(parts)\n",
    "averaged['Uniprot'] = names"
   ]
  },
  {
   "cell_type": "code",
   "execution_count": 136,
   "metadata": {},
   "outputs": [],
   "source": [
    "knot = pd.merge(combined[['Uniprot', 'Expressibility', 'Is Knottin? Uniprot']], averaged, left_on='Uniprot', right_on='Uniprot')\n",
    "knot = knot[knot['Is Knottin? Uniprot'] == 'Y']\n",
    "knot = knot.drop_duplicates('Uniprot').sort_values('Uniprot').sort_values('Uniprot')\n",
    "transformed = knot[[i for i in range(256)]]"
   ]
  },
  {
   "cell_type": "code",
   "execution_count": 137,
   "metadata": {},
   "outputs": [],
   "source": [
    "scores=[]\n",
    "skf = model_selection.ShuffleSplit(n_splits=50, test_size=0.1, random_state=10)\n",
    "\n",
    "for train_index, test_index in skf.split(transformed.values, knot['Expressibility'].values):\n",
    "    X_train, X_test = transformed.values[train_index], transformed.values[test_index]\n",
    "    y_train, y_test = knot['Expressibility'].values[train_index], knot['Expressibility'].values[test_index]\n",
    "\n",
    "    tr = X_train\n",
    "    model = RandomForestClassifier(n_estimators=300)\n",
    "    model.fit(tr, y_train)\n",
    "    \n",
    "    tt = X_test\n",
    "    truth = y_test\n",
    "    \n",
    "    scores.append(roc_auc_score(truth, model.predict_proba(tt)[:,1]))  \n",
    "mega['knottin_averagedmsa']=list(scores)"
   ]
  },
  {
   "cell_type": "code",
   "execution_count": 139,
   "metadata": {},
   "outputs": [],
   "source": [
    "parts = []\n",
    "for a in raw_array:\n",
    "    parts.append(a[:,256:256+384].mean(axis=0))\n",
    "averaged = pd.DataFrame(parts)\n",
    "averaged['Uniprot'] = names"
   ]
  },
  {
   "cell_type": "code",
   "execution_count": 140,
   "metadata": {},
   "outputs": [],
   "source": [
    "knot = pd.merge(combined[['Uniprot', 'Expressibility', 'Is Knottin? Uniprot']], averaged, left_on='Uniprot', right_on='Uniprot')\n",
    "knot = knot[knot['Is Knottin? Uniprot'] == 'Y']\n",
    "knot = knot.drop_duplicates('Uniprot').sort_values('Uniprot').sort_values('Uniprot')\n",
    "transformed = knot[[i for i in range(384)]]"
   ]
  },
  {
   "cell_type": "code",
   "execution_count": 141,
   "metadata": {},
   "outputs": [],
   "source": [
    "scores=[]\n",
    "skf = model_selection.ShuffleSplit(n_splits=50, test_size=0.1, random_state=10)\n",
    "\n",
    "for train_index, test_index in skf.split(transformed.values, knot['Expressibility'].values):\n",
    "    X_train, X_test = transformed.values[train_index], transformed.values[test_index]\n",
    "    y_train, y_test = knot['Expressibility'].values[train_index], knot['Expressibility'].values[test_index]\n",
    "\n",
    "    tr = X_train\n",
    "    model = RandomForestClassifier(n_estimators=300)\n",
    "    model.fit(tr, y_train)\n",
    "    \n",
    "    tt = X_test\n",
    "    truth = y_test\n",
    "    \n",
    "    scores.append(roc_auc_score(truth, model.predict_proba(tt)[:,1]))  \n",
    "mega['knottin_averagedstruct']=list(scores)"
   ]
  },
  {
   "cell_type": "code",
   "execution_count": 143,
   "metadata": {},
   "outputs": [],
   "source": [
    "parts = []\n",
    "for a in raw_array:\n",
    "    parts.append(a[:,256+384:256+384+128].mean(axis=0))\n",
    "averaged = pd.DataFrame(parts)\n",
    "averaged['Uniprot'] = names"
   ]
  },
  {
   "cell_type": "code",
   "execution_count": 144,
   "metadata": {},
   "outputs": [],
   "source": [
    "knot = pd.merge(combined[['Uniprot', 'Expressibility', 'Is Knottin? Uniprot']], averaged, left_on='Uniprot', right_on='Uniprot')\n",
    "knot = knot[knot['Is Knottin? Uniprot'] == 'Y']\n",
    "knot = knot.drop_duplicates('Uniprot').sort_values('Uniprot').sort_values('Uniprot')\n",
    "transformed = knot[[i for i in range(128)]]"
   ]
  },
  {
   "cell_type": "code",
   "execution_count": 145,
   "metadata": {},
   "outputs": [],
   "source": [
    "scores=[]\n",
    "skf = model_selection.ShuffleSplit(n_splits=50, test_size=0.1, random_state=10)\n",
    "\n",
    "for train_index, test_index in skf.split(transformed.values, knot['Expressibility'].values):\n",
    "    X_train, X_test = transformed.values[train_index], transformed.values[test_index]\n",
    "    y_train, y_test = knot['Expressibility'].values[train_index], knot['Expressibility'].values[test_index]\n",
    "\n",
    "    tr = X_train\n",
    "    model = RandomForestClassifier(n_estimators=300)\n",
    "    model.fit(tr, y_train)\n",
    "    \n",
    "    tt = X_test\n",
    "    truth = y_test\n",
    "    \n",
    "    scores.append(roc_auc_score(truth, model.predict_proba(tt)[:,1]))  \n",
    "mega['knottin_averagedpair']=list(scores)"
   ]
  },
  {
   "cell_type": "code",
   "execution_count": 147,
   "metadata": {},
   "outputs": [],
   "source": [
    "parts = []\n",
    "for a in raw_array:\n",
    "    parts.append(a[:,256+384+128:256+384+128+384].mean(axis=0))\n",
    "averaged = pd.DataFrame(parts)\n",
    "averaged['Uniprot'] = names"
   ]
  },
  {
   "cell_type": "code",
   "execution_count": 148,
   "metadata": {},
   "outputs": [],
   "source": [
    "knot = pd.merge(combined[['Uniprot', 'Expressibility', 'Is Knottin? Uniprot']], averaged, left_on='Uniprot', right_on='Uniprot')\n",
    "knot = knot[knot['Is Knottin? Uniprot'] == 'Y']\n",
    "knot = knot.drop_duplicates('Uniprot').sort_values('Uniprot').sort_values('Uniprot')\n",
    "transformed = knot[[i for i in range(384)]]"
   ]
  },
  {
   "cell_type": "code",
   "execution_count": 149,
   "metadata": {},
   "outputs": [],
   "source": [
    "scores=[]\n",
    "skf = model_selection.ShuffleSplit(n_splits=50, test_size=0.1, random_state=10)\n",
    "\n",
    "for train_index, test_index in skf.split(transformed.values, knot['Expressibility'].values):\n",
    "    X_train, X_test = transformed.values[train_index], transformed.values[test_index]\n",
    "    y_train, y_test = knot['Expressibility'].values[train_index], knot['Expressibility'].values[test_index]\n",
    "\n",
    "    tr = X_train\n",
    "    model = RandomForestClassifier(n_estimators=300)\n",
    "    model.fit(tr, y_train)\n",
    "    \n",
    "    tt = X_test\n",
    "    truth = y_test\n",
    "    \n",
    "    scores.append(roc_auc_score(truth, model.predict_proba(tt)[:,1]))  \n",
    "mega['knottin_averagedsingle']=list(scores)"
   ]
  },
  {
   "cell_type": "markdown",
   "metadata": {},
   "source": [
    "#### Non-knottins experiments"
   ]
  },
  {
   "cell_type": "code",
   "execution_count": 168,
   "metadata": {},
   "outputs": [],
   "source": [
    "knot = combined[combined['Is Knottin? Uniprot'] == 'N']\n",
    "knot = knot.sort_values('Uniprot')"
   ]
  },
  {
   "cell_type": "code",
   "execution_count": 169,
   "metadata": {
    "executionInfo": {
     "elapsed": 2517699,
     "status": "ok",
     "timestamp": 1654657217980,
     "user": {
      "displayName": "Sébastien Ouellet",
      "userId": "10771231568005612747"
     },
     "user_tz": 240
    },
    "id": "ZRxT9OGz5NIa"
   },
   "outputs": [],
   "source": [
    "feat_cols = list(range(384+256+128+384))\n",
    "\n",
    "rocket = Rocket(num_kernels=10000, random_state=42)\n",
    "rocket.fit(knot[feat_cols])\n",
    "transformed = rocket.transform(knot[feat_cols])"
   ]
  },
  {
   "cell_type": "code",
   "execution_count": 170,
   "metadata": {
    "tags": []
   },
   "outputs": [],
   "source": [
    "scores=[]\n",
    "skf = model_selection.ShuffleSplit(n_splits=50, test_size=0.1, random_state=10)\n",
    "\n",
    "for train_index, test_index in skf.split(transformed.values, knot['Expressibility'].values):\n",
    "    X_train, X_test = transformed.values[train_index], transformed.values[test_index]\n",
    "    y_train, y_test = knot['Expressibility'].values[train_index], knot['Expressibility'].values[test_index]\n",
    "\n",
    "    scaler = preprocessing.StandardScaler()\n",
    "    scaler.fit(X_train)\n",
    "    tr = scaler.transform(X_train)\n",
    "\n",
    "    model = LogisticRegression(C=0.0001)\n",
    "    model.fit(tr, y_train)\n",
    "\n",
    "    tt = scaler.transform(X_test)\n",
    "    truth = y_test\n",
    "    \n",
    "    scores.append(roc_auc_score(truth, model.predict_proba(tt)[:,1]))  \n",
    "mega['nonknottin_rocket']=list(scores)"
   ]
  },
  {
   "cell_type": "code",
   "execution_count": 171,
   "metadata": {},
   "outputs": [],
   "source": [
    "st = pd.read_parquet('peptide-data.parquet')\n",
    "\n",
    "stt = pd.read_parquet('proteInfer_embeddings_peptides.parquet')\n",
    "\n",
    "stt['Uniprot'] = st[\"('Uniprot',)\"].values\n",
    "\n",
    "knot = pd.merge(combined[['Uniprot', 'Expressibility', 'Is Knottin? Uniprot']], stt, left_on='Uniprot', right_on='Uniprot')\n",
    "knot = knot[knot['Is Knottin? Uniprot'] == 'N']\n",
    "knot = knot.drop_duplicates('Uniprot').sort_values('Uniprot').sort_values('Uniprot')\n",
    "transformed = knot[[str(i) for i in range(1100)]]"
   ]
  },
  {
   "cell_type": "code",
   "execution_count": 172,
   "metadata": {},
   "outputs": [],
   "source": [
    "scores=[]\n",
    "skf = model_selection.ShuffleSplit(n_splits=50, test_size=0.1, random_state=10)\n",
    "\n",
    "for train_index, test_index in skf.split(transformed.values, knot['Expressibility'].values):\n",
    "    X_train, X_test = transformed.values[train_index], transformed.values[test_index]\n",
    "    y_train, y_test = knot['Expressibility'].values[train_index], knot['Expressibility'].values[test_index]\n",
    "\n",
    "    tr = X_train\n",
    "    model = RandomForestClassifier(n_estimators=300)\n",
    "    model.fit(tr, y_train)\n",
    "    \n",
    "    tt = X_test\n",
    "    truth = y_test\n",
    "    \n",
    "    scores.append(roc_auc_score(truth, model.predict_proba(tt)[:,1]))  \n",
    "mega['nonknottin_proteinfer']=list(scores)"
   ]
  },
  {
   "cell_type": "code",
   "execution_count": 188,
   "metadata": {},
   "outputs": [],
   "source": [
    "parts = []\n",
    "for a in raw_array:\n",
    "    parts.append(a.mean(axis=0))\n",
    "averaged = pd.DataFrame(parts)\n",
    "averaged['Uniprot'] = names"
   ]
  },
  {
   "cell_type": "code",
   "execution_count": 189,
   "metadata": {},
   "outputs": [],
   "source": [
    "knot = pd.merge(combined[['Uniprot', 'Expressibility', 'Is Knottin? Uniprot']], averaged, left_on='Uniprot', right_on='Uniprot')\n",
    "knot = knot[knot['Is Knottin? Uniprot'] == 'N']\n",
    "knot = knot.drop_duplicates('Uniprot').sort_values('Uniprot').sort_values('Uniprot')\n",
    "transformed = knot[[i for i in range(1152)]]"
   ]
  },
  {
   "cell_type": "code",
   "execution_count": 190,
   "metadata": {},
   "outputs": [],
   "source": [
    "scores=[]\n",
    "skf = model_selection.ShuffleSplit(n_splits=50, test_size=0.1, random_state=10)\n",
    "\n",
    "for train_index, test_index in skf.split(transformed.values, knot['Expressibility'].values):\n",
    "    X_train, X_test = transformed.values[train_index], transformed.values[test_index]\n",
    "    y_train, y_test = knot['Expressibility'].values[train_index], knot['Expressibility'].values[test_index]\n",
    "\n",
    "    tr = X_train\n",
    "    model = RandomForestClassifier(n_estimators=300)\n",
    "    model.fit(tr, y_train)\n",
    "    \n",
    "    tt = X_test\n",
    "    truth = y_test\n",
    "    \n",
    "    scores.append(roc_auc_score(truth, model.predict_proba(tt)[:,1]))  \n",
    "mega['nonknottin_averagedfour']=list(scores)"
   ]
  },
  {
   "cell_type": "code",
   "execution_count": 192,
   "metadata": {},
   "outputs": [],
   "source": [
    "parts = []\n",
    "for a in raw_array:\n",
    "    parts.append(a[:,0:256].mean(axis=0))\n",
    "averaged = pd.DataFrame(parts)\n",
    "averaged['Uniprot'] = names"
   ]
  },
  {
   "cell_type": "code",
   "execution_count": 193,
   "metadata": {},
   "outputs": [],
   "source": [
    "knot = pd.merge(combined[['Uniprot', 'Expressibility', 'Is Knottin? Uniprot']], averaged, left_on='Uniprot', right_on='Uniprot')\n",
    "knot = knot[knot['Is Knottin? Uniprot'] == 'N']\n",
    "knot = knot.drop_duplicates('Uniprot').sort_values('Uniprot').sort_values('Uniprot')\n",
    "transformed = knot[[i for i in range(256)]]"
   ]
  },
  {
   "cell_type": "code",
   "execution_count": 194,
   "metadata": {},
   "outputs": [],
   "source": [
    "scores=[]\n",
    "skf = model_selection.ShuffleSplit(n_splits=50, test_size=0.1, random_state=10)\n",
    "\n",
    "for train_index, test_index in skf.split(transformed.values, knot['Expressibility'].values):\n",
    "    X_train, X_test = transformed.values[train_index], transformed.values[test_index]\n",
    "    y_train, y_test = knot['Expressibility'].values[train_index], knot['Expressibility'].values[test_index]\n",
    "\n",
    "    tr = X_train\n",
    "    model = RandomForestClassifier(n_estimators=300)\n",
    "    model.fit(tr, y_train)\n",
    "    \n",
    "    tt = X_test\n",
    "    truth = y_test\n",
    "    \n",
    "    scores.append(roc_auc_score(truth, model.predict_proba(tt)[:,1]))  \n",
    "mega['nonknottin_averagedmsa']=list(scores)"
   ]
  },
  {
   "cell_type": "code",
   "execution_count": 196,
   "metadata": {},
   "outputs": [],
   "source": [
    "parts = []\n",
    "for a in raw_array:\n",
    "    parts.append(a[:,256:256+384].mean(axis=0))\n",
    "averaged = pd.DataFrame(parts)\n",
    "averaged['Uniprot'] = names"
   ]
  },
  {
   "cell_type": "code",
   "execution_count": 197,
   "metadata": {},
   "outputs": [],
   "source": [
    "knot = pd.merge(combined[['Uniprot', 'Expressibility', 'Is Knottin? Uniprot']], averaged, left_on='Uniprot', right_on='Uniprot')\n",
    "knot = knot[knot['Is Knottin? Uniprot'] == 'N']\n",
    "knot = knot.drop_duplicates('Uniprot').sort_values('Uniprot').sort_values('Uniprot')\n",
    "transformed = knot[[i for i in range(384)]]"
   ]
  },
  {
   "cell_type": "code",
   "execution_count": 198,
   "metadata": {},
   "outputs": [],
   "source": [
    "scores=[]\n",
    "skf = model_selection.ShuffleSplit(n_splits=50, test_size=0.1, random_state=10)\n",
    "\n",
    "for train_index, test_index in skf.split(transformed.values, knot['Expressibility'].values):\n",
    "    X_train, X_test = transformed.values[train_index], transformed.values[test_index]\n",
    "    y_train, y_test = knot['Expressibility'].values[train_index], knot['Expressibility'].values[test_index]\n",
    "\n",
    "    tr = X_train\n",
    "    model = RandomForestClassifier(n_estimators=300)\n",
    "    model.fit(tr, y_train)\n",
    "    \n",
    "    tt = X_test\n",
    "    truth = y_test\n",
    "    \n",
    "    scores.append(roc_auc_score(truth, model.predict_proba(tt)[:,1]))  \n",
    "mega['nonknottin_averagedstruct']=list(scores)"
   ]
  },
  {
   "cell_type": "code",
   "execution_count": 200,
   "metadata": {},
   "outputs": [],
   "source": [
    "parts = []\n",
    "for a in raw_array:\n",
    "    parts.append(a[:,256+384:256+384+128].mean(axis=0))\n",
    "averaged = pd.DataFrame(parts)\n",
    "averaged['Uniprot'] = names"
   ]
  },
  {
   "cell_type": "code",
   "execution_count": 201,
   "metadata": {},
   "outputs": [],
   "source": [
    "knot = pd.merge(combined[['Uniprot', 'Expressibility', 'Is Knottin? Uniprot']], averaged, left_on='Uniprot', right_on='Uniprot')\n",
    "knot = knot[knot['Is Knottin? Uniprot'] == 'N']\n",
    "knot = knot.drop_duplicates('Uniprot').sort_values('Uniprot').sort_values('Uniprot')\n",
    "transformed = knot[[i for i in range(128)]]"
   ]
  },
  {
   "cell_type": "code",
   "execution_count": 202,
   "metadata": {},
   "outputs": [],
   "source": [
    "scores=[]\n",
    "skf = model_selection.ShuffleSplit(n_splits=50, test_size=0.1, random_state=10)\n",
    "\n",
    "for train_index, test_index in skf.split(transformed.values, knot['Expressibility'].values):\n",
    "    X_train, X_test = transformed.values[train_index], transformed.values[test_index]\n",
    "    y_train, y_test = knot['Expressibility'].values[train_index], knot['Expressibility'].values[test_index]\n",
    "\n",
    "    tr = X_train\n",
    "    model = RandomForestClassifier(n_estimators=300)\n",
    "    model.fit(tr, y_train)\n",
    "    \n",
    "    tt = X_test\n",
    "    truth = y_test\n",
    "    \n",
    "    scores.append(roc_auc_score(truth, model.predict_proba(tt)[:,1]))  \n",
    "mega['nonknottin_averagedpair']=list(scores)"
   ]
  },
  {
   "cell_type": "code",
   "execution_count": 204,
   "metadata": {},
   "outputs": [],
   "source": [
    "parts = []\n",
    "for a in raw_array:\n",
    "    parts.append(a[:,256+384+128:256+384+128+384].mean(axis=0))\n",
    "averaged = pd.DataFrame(parts)\n",
    "averaged['Uniprot'] = names"
   ]
  },
  {
   "cell_type": "code",
   "execution_count": 205,
   "metadata": {},
   "outputs": [],
   "source": [
    "knot = pd.merge(combined[['Uniprot', 'Expressibility', 'Is Knottin? Uniprot']], averaged, left_on='Uniprot', right_on='Uniprot')\n",
    "knot = knot[knot['Is Knottin? Uniprot'] == 'N']\n",
    "knot = knot.drop_duplicates('Uniprot').sort_values('Uniprot').sort_values('Uniprot')\n",
    "transformed = knot[[i for i in range(384)]]"
   ]
  },
  {
   "cell_type": "code",
   "execution_count": 206,
   "metadata": {},
   "outputs": [],
   "source": [
    "scores=[]\n",
    "skf = model_selection.ShuffleSplit(n_splits=50, test_size=0.1, random_state=10)\n",
    "\n",
    "for train_index, test_index in skf.split(transformed.values, knot['Expressibility'].values):\n",
    "    X_train, X_test = transformed.values[train_index], transformed.values[test_index]\n",
    "    y_train, y_test = knot['Expressibility'].values[train_index], knot['Expressibility'].values[test_index]\n",
    "\n",
    "    tr = X_train\n",
    "    model = RandomForestClassifier(n_estimators=300)\n",
    "    model.fit(tr, y_train)\n",
    "    \n",
    "    tt = X_test\n",
    "    truth = y_test\n",
    "    \n",
    "    scores.append(roc_auc_score(truth, model.predict_proba(tt)[:,1]))  \n",
    "mega['nonknottin_averagedsingle']=list(scores)"
   ]
  },
  {
   "cell_type": "markdown",
   "metadata": {},
   "source": [
    "### Preparing the data to draw a critical difference diagram according to https://github.com/hfawaz/cd-diagram "
   ]
  },
  {
   "cell_type": "code",
   "execution_count": 23,
   "metadata": {},
   "outputs": [],
   "source": [
    "classifiers = []\n",
    "datasets = []\n",
    "accuracies = []\n",
    "for key in mega:\n",
    "    if key.startswith('knottin'):\n",
    "        classifier = key.split('_')[1].replace('averaged','')\n",
    "        for e, value in enumerate(mega[key]):\n",
    "            accuracy = value\n",
    "            dataset = str(e)\n",
    "\n",
    "            classifiers.append(classifier.replace('four','combined'))\n",
    "            datasets.append(dataset)\n",
    "            accuracies.append(accuracy)\n",
    "    "
   ]
  },
  {
   "cell_type": "code",
   "execution_count": 24,
   "metadata": {},
   "outputs": [],
   "source": [
    "cdddata = pd.DataFrame()\n",
    "cdddata['classifier_name'] = classifiers\n",
    "cdddata['dataset_name'] = datasets\n",
    "cdddata['accuracy'] = accuracies"
   ]
  },
  {
   "cell_type": "code",
   "execution_count": 12,
   "metadata": {},
   "outputs": [
    {
     "data": {
      "text/html": [
       "<div>\n",
       "<style scoped>\n",
       "    .dataframe tbody tr th:only-of-type {\n",
       "        vertical-align: middle;\n",
       "    }\n",
       "\n",
       "    .dataframe tbody tr th {\n",
       "        vertical-align: top;\n",
       "    }\n",
       "\n",
       "    .dataframe thead th {\n",
       "        text-align: right;\n",
       "    }\n",
       "</style>\n",
       "<table border=\"1\" class=\"dataframe\">\n",
       "  <thead>\n",
       "    <tr style=\"text-align: right;\">\n",
       "      <th></th>\n",
       "      <th>classifier_name</th>\n",
       "      <th>dataset_name</th>\n",
       "      <th>accuracy</th>\n",
       "    </tr>\n",
       "  </thead>\n",
       "  <tbody>\n",
       "    <tr>\n",
       "      <th>0</th>\n",
       "      <td>rocket</td>\n",
       "      <td>0</td>\n",
       "      <td>0.862500</td>\n",
       "    </tr>\n",
       "    <tr>\n",
       "      <th>1</th>\n",
       "      <td>rocket</td>\n",
       "      <td>1</td>\n",
       "      <td>0.745553</td>\n",
       "    </tr>\n",
       "    <tr>\n",
       "      <th>2</th>\n",
       "      <td>rocket</td>\n",
       "      <td>2</td>\n",
       "      <td>0.828526</td>\n",
       "    </tr>\n",
       "    <tr>\n",
       "      <th>3</th>\n",
       "      <td>rocket</td>\n",
       "      <td>3</td>\n",
       "      <td>0.786963</td>\n",
       "    </tr>\n",
       "    <tr>\n",
       "      <th>4</th>\n",
       "      <td>rocket</td>\n",
       "      <td>4</td>\n",
       "      <td>0.801675</td>\n",
       "    </tr>\n",
       "    <tr>\n",
       "      <th>...</th>\n",
       "      <td>...</td>\n",
       "      <td>...</td>\n",
       "      <td>...</td>\n",
       "    </tr>\n",
       "    <tr>\n",
       "      <th>345</th>\n",
       "      <td>single</td>\n",
       "      <td>45</td>\n",
       "      <td>0.714052</td>\n",
       "    </tr>\n",
       "    <tr>\n",
       "      <th>346</th>\n",
       "      <td>single</td>\n",
       "      <td>46</td>\n",
       "      <td>0.754427</td>\n",
       "    </tr>\n",
       "    <tr>\n",
       "      <th>347</th>\n",
       "      <td>single</td>\n",
       "      <td>47</td>\n",
       "      <td>0.775054</td>\n",
       "    </tr>\n",
       "    <tr>\n",
       "      <th>348</th>\n",
       "      <td>single</td>\n",
       "      <td>48</td>\n",
       "      <td>0.787854</td>\n",
       "    </tr>\n",
       "    <tr>\n",
       "      <th>349</th>\n",
       "      <td>single</td>\n",
       "      <td>49</td>\n",
       "      <td>0.720031</td>\n",
       "    </tr>\n",
       "  </tbody>\n",
       "</table>\n",
       "<p>350 rows × 3 columns</p>\n",
       "</div>"
      ],
      "text/plain": [
       "    classifier_name dataset_name  accuracy\n",
       "0            rocket            0  0.862500\n",
       "1            rocket            1  0.745553\n",
       "2            rocket            2  0.828526\n",
       "3            rocket            3  0.786963\n",
       "4            rocket            4  0.801675\n",
       "..              ...          ...       ...\n",
       "345          single           45  0.714052\n",
       "346          single           46  0.754427\n",
       "347          single           47  0.775054\n",
       "348          single           48  0.787854\n",
       "349          single           49  0.720031\n",
       "\n",
       "[350 rows x 3 columns]"
      ]
     },
     "execution_count": 12,
     "metadata": {},
     "output_type": "execute_result"
    }
   ],
   "source": [
    "cdddata"
   ]
  },
  {
   "cell_type": "code",
   "execution_count": 25,
   "metadata": {},
   "outputs": [],
   "source": [
    "cdddata.to_csv('peptidecdd.csv', index=False)"
   ]
  }
 ],
 "metadata": {
  "colab": {
   "collapsed_sections": [],
   "name": "rocketknottinsversus.ipynb",
   "provenance": []
  },
  "kernelspec": {
   "display_name": "Python 3 (ipykernel)",
   "language": "python",
   "name": "python3"
  },
  "language_info": {
   "codemirror_mode": {
    "name": "ipython",
    "version": 3
   },
   "file_extension": ".py",
   "mimetype": "text/x-python",
   "name": "python",
   "nbconvert_exporter": "python",
   "pygments_lexer": "ipython3",
   "version": "3.8.5"
  }
 },
 "nbformat": 4,
 "nbformat_minor": 4
}
